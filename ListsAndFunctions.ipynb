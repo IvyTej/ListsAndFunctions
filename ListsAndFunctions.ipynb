{
 "cells": [
  {
   "cell_type": "code",
   "execution_count": 37,
   "id": "5a7ca904-edca-4c4c-82a9-7317d98c49c9",
   "metadata": {},
   "outputs": [],
   "source": [
    "#7.4 - List called things\n",
    "things = [\"mozzarella\", \"cinderella\", \"salmonella\"]"
   ]
  },
  {
   "cell_type": "code",
   "execution_count": 38,
   "id": "430813fe-1bed-4d50-ab84-444eec6d53e5",
   "metadata": {},
   "outputs": [
    {
     "name": "stdout",
     "output_type": "stream",
     "text": [
      "['mozzarella', 'Cinderella', 'salmonella']\n"
     ]
    }
   ],
   "source": [
    "#7.5 - Capitalize the element in things that refers to a person and print things\n",
    "things[1] = things[1].capitalize()\n",
    "print(things)"
   ]
  },
  {
   "cell_type": "code",
   "execution_count": 39,
   "id": "8e1dcab3-408c-4747-8a9d-ae84034e8142",
   "metadata": {},
   "outputs": [
    {
     "name": "stdout",
     "output_type": "stream",
     "text": [
      "['MOZZARELLA', 'Cinderella', 'salmonella']\n"
     ]
    }
   ],
   "source": [
    "#7.6 - Make the cheesy element of things all uppercase and then print the list\n",
    "things[0] = things[0].upper()\n",
    "print(things)"
   ]
  },
  {
   "cell_type": "code",
   "execution_count": 40,
   "id": "08ef5f2d-9d47-44cf-9176-5e1500d28a5e",
   "metadata": {},
   "outputs": [
    {
     "name": "stdout",
     "output_type": "stream",
     "text": [
      "['MOZZARELLA', 'Cinderella']\n"
     ]
    }
   ],
   "source": [
    "#7.7 - Delete the disease element and print the list\n",
    "things.remove(\"salmonella\")\n",
    "print(things)"
   ]
  },
  {
   "cell_type": "code",
   "execution_count": 41,
   "id": "70e4c595-13e6-4cb0-89fd-81c090cf1d04",
   "metadata": {},
   "outputs": [],
   "source": [
    "#9.1 - Define a function called good() that returns the list\n",
    "def good():\n",
    "    return ['Harry', 'Ron', 'Hermione']"
   ]
  },
  {
   "cell_type": "code",
   "execution_count": 42,
   "id": "4c1c37f7-649c-47e9-8306-7ffab023c1c8",
   "metadata": {},
   "outputs": [
    {
     "name": "stdout",
     "output_type": "stream",
     "text": [
      "5\n"
     ]
    }
   ],
   "source": [
    "#9.2 - Define a generator function called get_odds() that returns the odd numbers from range(10), print the third value\n",
    "def get_odds():\n",
    "    for number in range(10):\n",
    "        if number % 2 != 0:\n",
    "            yield number\n",
    "\n",
    "# generator\n",
    "odds = get_odds()\n",
    "\n",
    "# for loop to find the 3rd value returned\n",
    "count = 0\n",
    "for odd in odds:\n",
    "    count += 1\n",
    "    if count == 3:\n",
    "        print(odd)\n",
    "        break"
   ]
  }
 ],
 "metadata": {
  "kernelspec": {
   "display_name": "Python 3 (ipykernel)",
   "language": "python",
   "name": "python3"
  },
  "language_info": {
   "codemirror_mode": {
    "name": "ipython",
    "version": 3
   },
   "file_extension": ".py",
   "mimetype": "text/x-python",
   "name": "python",
   "nbconvert_exporter": "python",
   "pygments_lexer": "ipython3",
   "version": "3.12.4"
  }
 },
 "nbformat": 4,
 "nbformat_minor": 5
}
